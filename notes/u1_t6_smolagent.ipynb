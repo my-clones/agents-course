{
 "cells": [
  {
   "cell_type": "code",
   "execution_count": 5,
   "id": "b1439ec0",
   "metadata": {},
   "outputs": [
    {
     "data": {
      "text/html": [
       "<pre style=\"white-space:pre;overflow-x:auto;line-height:normal;font-family:Menlo,'DejaVu Sans Mono',consolas,'Courier New',monospace\"><span style=\"color: #d4b702; text-decoration-color: #d4b702\">╭──────────────────────────────────────────────────── </span><span style=\"color: #d4b702; text-decoration-color: #d4b702; font-weight: bold\">New run</span><span style=\"color: #d4b702; text-decoration-color: #d4b702\"> ────────────────────────────────────────────────────╮</span>\n",
       "<span style=\"color: #d4b702; text-decoration-color: #d4b702\">│</span>                                                                                                                 <span style=\"color: #d4b702; text-decoration-color: #d4b702\">│</span>\n",
       "<span style=\"color: #d4b702; text-decoration-color: #d4b702\">│</span> <span style=\"font-weight: bold\">How many seconds would it take for a leopard at full speed to run through Pont des Arts?</span>                        <span style=\"color: #d4b702; text-decoration-color: #d4b702\">│</span>\n",
       "<span style=\"color: #d4b702; text-decoration-color: #d4b702\">│</span>                                                                                                                 <span style=\"color: #d4b702; text-decoration-color: #d4b702\">│</span>\n",
       "<span style=\"color: #d4b702; text-decoration-color: #d4b702\">╰─ HfApiModel - Qwen/Qwen2.5-Coder-32B-Instruct ──────────────────────────────────────────────────────────────────╯</span>\n",
       "</pre>\n"
      ],
      "text/plain": [
       "\u001b[38;2;212;183;2m╭─\u001b[0m\u001b[38;2;212;183;2m───────────────────────────────────────────────────\u001b[0m\u001b[38;2;212;183;2m \u001b[0m\u001b[1;38;2;212;183;2mNew run\u001b[0m\u001b[38;2;212;183;2m \u001b[0m\u001b[38;2;212;183;2m───────────────────────────────────────────────────\u001b[0m\u001b[38;2;212;183;2m─╮\u001b[0m\n",
       "\u001b[38;2;212;183;2m│\u001b[0m                                                                                                                 \u001b[38;2;212;183;2m│\u001b[0m\n",
       "\u001b[38;2;212;183;2m│\u001b[0m \u001b[1mHow many seconds would it take for a leopard at full speed to run through Pont des Arts?\u001b[0m                        \u001b[38;2;212;183;2m│\u001b[0m\n",
       "\u001b[38;2;212;183;2m│\u001b[0m                                                                                                                 \u001b[38;2;212;183;2m│\u001b[0m\n",
       "\u001b[38;2;212;183;2m╰─\u001b[0m\u001b[38;2;212;183;2m HfApiModel - Qwen/Qwen2.5-Coder-32B-Instruct \u001b[0m\u001b[38;2;212;183;2m─────────────────────────────────────────────────────────────────\u001b[0m\u001b[38;2;212;183;2m─╯\u001b[0m\n"
      ]
     },
     "metadata": {},
     "output_type": "display_data"
    },
    {
     "data": {
      "text/html": [
       "<pre style=\"white-space:pre;overflow-x:auto;line-height:normal;font-family:Menlo,'DejaVu Sans Mono',consolas,'Courier New',monospace\"><span style=\"color: #d4b702; text-decoration-color: #d4b702\">━━━━━━━━━━━━━━━━━━━━━━━━━━━━━━━━━━━━━━━━━━━━━━━━━━━━━ </span><span style=\"font-weight: bold\">Step </span><span style=\"color: #008080; text-decoration-color: #008080; font-weight: bold\">1</span><span style=\"color: #d4b702; text-decoration-color: #d4b702\"> ━━━━━━━━━━━━━━━━━━━━━━━━━━━━━━━━━━━━━━━━━━━━━━━━━━━━━━</span>\n",
       "</pre>\n"
      ],
      "text/plain": [
       "\u001b[38;2;212;183;2m━━━━━━━━━━━━━━━━━━━━━━━━━━━━━━━━━━━━━━━━━━━━━━━━━━━━━ \u001b[0m\u001b[1mStep \u001b[0m\u001b[1;36m1\u001b[0m\u001b[38;2;212;183;2m ━━━━━━━━━━━━━━━━━━━━━━━━━━━━━━━━━━━━━━━━━━━━━━━━━━━━━━\u001b[0m\n"
      ]
     },
     "metadata": {},
     "output_type": "display_data"
    },
    {
     "data": {
      "text/html": [
       "<pre style=\"white-space:pre;overflow-x:auto;line-height:normal;font-family:Menlo,'DejaVu Sans Mono',consolas,'Courier New',monospace\"> ─ <span style=\"font-weight: bold\">Executing parsed code:</span> ──────────────────────────────────────────────────────────────────────────────────────── \n",
       "  <span style=\"color: #959077; text-decoration-color: #959077; background-color: #272822\"># Search for the length of Pont des Arts</span><span style=\"background-color: #272822\">                                                                       </span>  \n",
       "  <span style=\"color: #f8f8f2; text-decoration-color: #f8f8f2; background-color: #272822\">pont_des_arts_length </span><span style=\"color: #ff4689; text-decoration-color: #ff4689; background-color: #272822\">=</span><span style=\"color: #f8f8f2; text-decoration-color: #f8f8f2; background-color: #272822\"> web_search(query</span><span style=\"color: #ff4689; text-decoration-color: #ff4689; background-color: #272822\">=</span><span style=\"color: #e6db74; text-decoration-color: #e6db74; background-color: #272822\">\"length of Pont des Arts\"</span><span style=\"color: #f8f8f2; text-decoration-color: #f8f8f2; background-color: #272822\">)</span><span style=\"background-color: #272822\">                                             </span>  \n",
       "  <span style=\"color: #f8f8f2; text-decoration-color: #f8f8f2; background-color: #272822\">print(</span><span style=\"color: #e6db74; text-decoration-color: #e6db74; background-color: #272822\">\"Pont des Arts length:\"</span><span style=\"color: #f8f8f2; text-decoration-color: #f8f8f2; background-color: #272822\">, pont_des_arts_length)</span><span style=\"background-color: #272822\">                                                           </span>  \n",
       "  <span style=\"background-color: #272822\">                                                                                                               </span>  \n",
       "  <span style=\"color: #959077; text-decoration-color: #959077; background-color: #272822\"># Search for the top running speed of a leopard</span><span style=\"background-color: #272822\">                                                                </span>  \n",
       "  <span style=\"color: #f8f8f2; text-decoration-color: #f8f8f2; background-color: #272822\">leopard_speed </span><span style=\"color: #ff4689; text-decoration-color: #ff4689; background-color: #272822\">=</span><span style=\"color: #f8f8f2; text-decoration-color: #f8f8f2; background-color: #272822\"> web_search(query</span><span style=\"color: #ff4689; text-decoration-color: #ff4689; background-color: #272822\">=</span><span style=\"color: #e6db74; text-decoration-color: #e6db74; background-color: #272822\">\"top running speed of a leopard\"</span><span style=\"color: #f8f8f2; text-decoration-color: #f8f8f2; background-color: #272822\">)</span><span style=\"background-color: #272822\">                                             </span>  \n",
       "  <span style=\"color: #f8f8f2; text-decoration-color: #f8f8f2; background-color: #272822\">print(</span><span style=\"color: #e6db74; text-decoration-color: #e6db74; background-color: #272822\">\"Leopard speed:\"</span><span style=\"color: #f8f8f2; text-decoration-color: #f8f8f2; background-color: #272822\">, leopard_speed)</span><span style=\"background-color: #272822\">                                                                         </span>  \n",
       " ───────────────────────────────────────────────────────────────────────────────────────────────────────────────── \n",
       "</pre>\n"
      ],
      "text/plain": [
       " ─ \u001b[1mExecuting parsed code:\u001b[0m ──────────────────────────────────────────────────────────────────────────────────────── \n",
       "  \u001b[38;2;149;144;119;48;2;39;40;34m# Search for the length of Pont des Arts\u001b[0m\u001b[48;2;39;40;34m                                                                       \u001b[0m  \n",
       "  \u001b[38;2;248;248;242;48;2;39;40;34mpont_des_arts_length\u001b[0m\u001b[38;2;248;248;242;48;2;39;40;34m \u001b[0m\u001b[38;2;255;70;137;48;2;39;40;34m=\u001b[0m\u001b[38;2;248;248;242;48;2;39;40;34m \u001b[0m\u001b[38;2;248;248;242;48;2;39;40;34mweb_search\u001b[0m\u001b[38;2;248;248;242;48;2;39;40;34m(\u001b[0m\u001b[38;2;248;248;242;48;2;39;40;34mquery\u001b[0m\u001b[38;2;255;70;137;48;2;39;40;34m=\u001b[0m\u001b[38;2;230;219;116;48;2;39;40;34m\"\u001b[0m\u001b[38;2;230;219;116;48;2;39;40;34mlength of Pont des Arts\u001b[0m\u001b[38;2;230;219;116;48;2;39;40;34m\"\u001b[0m\u001b[38;2;248;248;242;48;2;39;40;34m)\u001b[0m\u001b[48;2;39;40;34m                                             \u001b[0m  \n",
       "  \u001b[38;2;248;248;242;48;2;39;40;34mprint\u001b[0m\u001b[38;2;248;248;242;48;2;39;40;34m(\u001b[0m\u001b[38;2;230;219;116;48;2;39;40;34m\"\u001b[0m\u001b[38;2;230;219;116;48;2;39;40;34mPont des Arts length:\u001b[0m\u001b[38;2;230;219;116;48;2;39;40;34m\"\u001b[0m\u001b[38;2;248;248;242;48;2;39;40;34m,\u001b[0m\u001b[38;2;248;248;242;48;2;39;40;34m \u001b[0m\u001b[38;2;248;248;242;48;2;39;40;34mpont_des_arts_length\u001b[0m\u001b[38;2;248;248;242;48;2;39;40;34m)\u001b[0m\u001b[48;2;39;40;34m                                                           \u001b[0m  \n",
       "  \u001b[48;2;39;40;34m                                                                                                               \u001b[0m  \n",
       "  \u001b[38;2;149;144;119;48;2;39;40;34m# Search for the top running speed of a leopard\u001b[0m\u001b[48;2;39;40;34m                                                                \u001b[0m  \n",
       "  \u001b[38;2;248;248;242;48;2;39;40;34mleopard_speed\u001b[0m\u001b[38;2;248;248;242;48;2;39;40;34m \u001b[0m\u001b[38;2;255;70;137;48;2;39;40;34m=\u001b[0m\u001b[38;2;248;248;242;48;2;39;40;34m \u001b[0m\u001b[38;2;248;248;242;48;2;39;40;34mweb_search\u001b[0m\u001b[38;2;248;248;242;48;2;39;40;34m(\u001b[0m\u001b[38;2;248;248;242;48;2;39;40;34mquery\u001b[0m\u001b[38;2;255;70;137;48;2;39;40;34m=\u001b[0m\u001b[38;2;230;219;116;48;2;39;40;34m\"\u001b[0m\u001b[38;2;230;219;116;48;2;39;40;34mtop running speed of a leopard\u001b[0m\u001b[38;2;230;219;116;48;2;39;40;34m\"\u001b[0m\u001b[38;2;248;248;242;48;2;39;40;34m)\u001b[0m\u001b[48;2;39;40;34m                                             \u001b[0m  \n",
       "  \u001b[38;2;248;248;242;48;2;39;40;34mprint\u001b[0m\u001b[38;2;248;248;242;48;2;39;40;34m(\u001b[0m\u001b[38;2;230;219;116;48;2;39;40;34m\"\u001b[0m\u001b[38;2;230;219;116;48;2;39;40;34mLeopard speed:\u001b[0m\u001b[38;2;230;219;116;48;2;39;40;34m\"\u001b[0m\u001b[38;2;248;248;242;48;2;39;40;34m,\u001b[0m\u001b[38;2;248;248;242;48;2;39;40;34m \u001b[0m\u001b[38;2;248;248;242;48;2;39;40;34mleopard_speed\u001b[0m\u001b[38;2;248;248;242;48;2;39;40;34m)\u001b[0m\u001b[48;2;39;40;34m                                                                         \u001b[0m  \n",
       " ───────────────────────────────────────────────────────────────────────────────────────────────────────────────── \n"
      ]
     },
     "metadata": {},
     "output_type": "display_data"
    },
    {
     "data": {
      "text/html": [
       "<pre style=\"white-space:pre;overflow-x:auto;line-height:normal;font-family:Menlo,'DejaVu Sans Mono',consolas,'Courier New',monospace\"><span style=\"font-weight: bold\">Execution logs:</span>\n",
       "Pont des Arts length: ## Search Results\n",
       "\n",
       "[Pont des Arts - Wikipedia](https://en.wikipedia.org/wiki/Pont_des_Arts)\n",
       "The Pont des Arts (French pronunciation: [pɔ̃ dez‿aʁ]) or Passerelle des Arts ([pasʁɛl -]) is a pedestrian bridge in\n",
       "Paris which crosses the River Seine. It links the Institut de France and the central square (cour carrée) of the \n",
       "Palais du Louvre, (which had been termed the \"Palais des Arts\" under the First French Empire).\n",
       "\n",
       "[10 Picturesque Facts About The Pont Des Arts](https://art-facts.com/pont-des-arts-facts/)\n",
       "In this article, we'll take a closer look at some of the most interesting facts about the Pont des Arts, a \n",
       "remarkable structure in the City of Light.\n",
       "\n",
       "[Love Lock bridge in Paris then &amp; now: The Pont des \n",
       "Arts](https://cosmopoliclan.com/travel-with-kids/inspiration/love-lock-bridge-paris-pont-des-arts/)\n",
       "The Pont des Arts or Passerelle des Arts is the pedestrian bridge over the Seine that connects the Louvre Museum on\n",
       "the Right bank to the Institut de France on the Left Bank. As a result, it connects the 1st and the 6th Paris \n",
       "arrondissements. It is flanked by the Pont du Carrousel downstream and by the Pont-Neuf and the Île de la Cité, \n",
       "home to the Notre Dame cathedral, upstream. The closest ...\n",
       "\n",
       "[Pont des Arts, Paris, France - LatLong](https://www.latlong.net/place/pont-des-arts-paris-france-32945.html)\n",
       "Pont des Arts, Paris, France Latitude and longitude coordinates are: 48.858334, 2.337369. Pont des Arts is a scenic\n",
       "pedestrian bridge over the Seine River in Paris, France. The bridge connects the Musée du Louvre and the Institut \n",
       "de France. It has a length of 155 m (509 ft) and a width of 11 m (36 ft). It was constructed between 1981 and 1984.\n",
       "The bridge is part of the UNESCO World Heritage ...\n",
       "\n",
       "[Le pont des Arts - L'art nouveau](https://paris1900.lartnouveau.com/ponts/pont_des_arts.htm)\n",
       "Le pont des Art actuel, passerelle pour piétons en acier, d'une longueur de 155 m comporte sept arches de 22 m. Il \n",
       "a été reconstruit de 1982 à 1984 sous la direction de l'architecte Louis Arretche. Le pont des Arts relie le quai \n",
       "Conti sur la rive gauche et l' Institut de France au quai François Mitterrand et le Louvre\n",
       "\n",
       "[Pont des Arts footbridge - travelfranceonline.com](https://www.travelfranceonline.com/pont-des-arts-footbridge/)\n",
       "The current Pont des Arts The current Pont des Arts, constructed in the early 1980s, faithfully replicates the \n",
       "original footbridge, albeit with a reduction in the number of arches from 8 to 7 to align with those of the \n",
       "Pont-Neuf upstream.\n",
       "\n",
       "[Bridge of Lovers - Pont des Arts - Pariste.Net](https://www.pariste.net/en/lovers-bridge-pont-des-arts/)\n",
       "(Last Update: 24.01.2025) Pont des Arts, known as the Lovers' Bridge, is a bridge over the Seine River in Paris, \n",
       "famous for its padlocks.\n",
       "\n",
       "[10 things to know about the Pont des Arts in Paris.](https://www.pariscadenas.com/articles/read/art-bridge)\n",
       "The Pont des Arts is a wooden pedestrian bridge that connects the two sides of the Seine in Paris, between the \n",
       "Louvre and the rue de Seine. It was built between 1802 and 1804 by architect Louis-Alexandre de Cessart and \n",
       "engineer Jean-Rodolphe Perronet. The Pont des Arts is the first wooden bridge to be built over the Seine in Paris.\n",
       "\n",
       "[Pont des Arts - The Love Bridge - Tour de \n",
       "France](https://www.tourdefrance-bridges.com/post/pont-des-arts-the-love-bridge)\n",
       "Context:The Pont des Arts, originally a cast iron arch bridge, known more often as the \"Love Bridge,\" crosses the \n",
       "Seine river in Paris, connecting the Louvre to the Institut de Paris, formerly the Collèges des quatre Nations. The\n",
       "bridge which stands today is not the original but an altered version constructed in the 1980s. The first bridge was\n",
       "commissioned by Napoléon and built between ...\n",
       "\n",
       "[PONT DES ARTS (2025) All You MUST Know Before You Go (w/ \n",
       "Reviews)](https://www.tripadvisor.ca/Attraction_Review-g187147-d2072995-Reviews-Pont_des_Arts-Paris_Ile_de_France.h\n",
       "tml)\n",
       "Book your tickets online for Pont des Arts, Paris: See 1,690 reviews, articles, and 1,385 photos of Pont des Arts, \n",
       "ranked No.117 on Tripadvisor among 4,158 attractions in Paris.\n",
       "Leopard speed: ## Search Results\n",
       "\n",
       "[How Fast Are Leopards? Top Speeds and How It Compares Other Big \n",
       "Cats](https://a-z-animals.com/blog/how-fast-leopards-top-speeds-how-compares-other-big-cats/)\n",
       "Leopards can run up to speeds of 36 miles per hour. Below, we delve into how that speed compares to their fellow \n",
       "felines and what contributes to a cat's incredible speed and agility. How Fast Are Leopards Compared to Other Big \n",
       "Cats?\n",
       "\n",
       "[How Fast Can a Leopard Run? It's Slower than Most of Its Prey](https://africafreak.com/how-fast-can-a-leopard-run)\n",
       "African leopards have a top speed of 56 - 60 km/h (35 - 37 mph). But they can hunt animals that are much faster \n",
       "than they are. This article explains it all.\n",
       "\n",
       "[How Fast Can a Leopard Run? A Fascinating Look at Their \n",
       "Speed](https://tiger-universe.com/blogs/tiger-blog/how-fast-can-a-leopard-run)\n",
       "Ever wondered How Fast Can a Leopard Run? Explore the speed, facts, and more in this expert guide. Learn about the \n",
       "incredible capabilities of these majestic creatures.\n",
       "\n",
       "[Unraveling the Speed of Leopards: How Fast Can They Actually \n",
       "Run?](https://startingrun.com/unraveling-the-speed-of-leopards-how-fast-can-they-actually-run/)\n",
       "After understanding the factors that influence a leopard's speed, let's delve into a comparative analysis with \n",
       "other big cats. The leopard, famously fast, clocks an impressive top speed of 58 km/h (36 mph). But how does this \n",
       "fare against other members of the big cat family? The lion, larger and heavier, reaches a peak speed of 81 km/h (50\n",
       "mph). Lions possess less agility, but they marshal ...\n",
       "\n",
       "[How Fast Can a Leopard Run? - YouTube](https://www.youtube.com/watch?v=CdK97tz4APQ)\n",
       "Discover the incredible running speed of leopards and how they excel in the wild! In this video, we dive into \n",
       "leopard running speed, exploring their top sprint abilities and comparing them with ...\n",
       "\n",
       "[How fast can leopards run and how agile are they? - \n",
       "WildLifeFAQs](https://www.wildlifefaq.com/leopard-speed-and-agility/)\n",
       "Welcome to our article about the impressive speed and agility of leopards, one of the most swift predators in the \n",
       "animal kingdom. In this section, we will explore the leopard's running speed, top speed, and overall agility. Get \n",
       "ready to be amazed by these agile big cats!\n",
       "\n",
       "[What is leopard top speed? - The Environmental Literacy \n",
       "Council](https://enviroliteracy.org/what-is-leopard-top-speed/)\n",
       "Unveiling the Leopard's Top Speed: A Deep Dive into Feline Agility The leopard, a master of stealth and adaptation,\n",
       "is a formidable predator. Its top speed, a crucial element of its hunting prowess, is a topic of much interest. \n",
       "What is leopard top speed? Leopards can reach speeds of up to 36 miles per hour (58 kilometers per hour) in short \n",
       "bursts. While not the fastest cat on the planet ...\n",
       "\n",
       "[How Fast Is A Leopard? - Name That Animal](https://www.namethatanimal.com/post/how-fast-is-a-leopard)\n",
       "Leopards are incredibly fast runners and can reach speeds of up to 58 kilometers per hour (36 mph). They are able \n",
       "to run at these high speeds for short distances, which allows them to chase down prey that is trying to escape. \n",
       "Leopards have long, muscular legs that are built for speed and allow them to cover large distances quickly.In \n",
       "addition to their speed, leopards are also incredibly agile ...\n",
       "\n",
       "[How does a leopard run so fast? - Sage-Advices](https://sage-advices.com/how-does-a-leopard-run-so-fast/)\n",
       "The average top speed of a leopard is 35 miles (56 kilometers) per hour. If a leopard is particularly hungry, they \n",
       "can go even faster and even reach up to 40 miles (64 kilometers) per hour. How fast can a African Leopard run? \n",
       "African leopards have a top speed of 56 - 60 km/h (35 - 37 mph).\n",
       "\n",
       "[How Fast Is A Leopard? Top Speed &amp; Acceleration](https://scalecompanions.com/how-fast-is-a-leopard/)\n",
       "Learn about the amazing speed of leopards—from top speed to acceleration rates and their incredible hunting \n",
       "prowess. Discover how fast these fierce predators can run and chase prey in this comprehensive guide. Top Speed \n",
       "Recorded Maximum When we talk about top speed in vehicles or animals, it's like asking what's the peak performance \n",
       "when all systems are maxed out. For cars, this is often ...\n",
       "\n",
       "Out: None\n",
       "</pre>\n"
      ],
      "text/plain": [
       "\u001b[1mExecution logs:\u001b[0m\n",
       "Pont des Arts length: ## Search Results\n",
       "\n",
       "[Pont des Arts - Wikipedia](https://en.wikipedia.org/wiki/Pont_des_Arts)\n",
       "The Pont des Arts (French pronunciation: [pɔ̃ dez‿aʁ]) or Passerelle des Arts ([pasʁɛl -]) is a pedestrian bridge in\n",
       "Paris which crosses the River Seine. It links the Institut de France and the central square (cour carrée) of the \n",
       "Palais du Louvre, (which had been termed the \"Palais des Arts\" under the First French Empire).\n",
       "\n",
       "[10 Picturesque Facts About The Pont Des Arts](https://art-facts.com/pont-des-arts-facts/)\n",
       "In this article, we'll take a closer look at some of the most interesting facts about the Pont des Arts, a \n",
       "remarkable structure in the City of Light.\n",
       "\n",
       "[Love Lock bridge in Paris then & now: The Pont des \n",
       "Arts](https://cosmopoliclan.com/travel-with-kids/inspiration/love-lock-bridge-paris-pont-des-arts/)\n",
       "The Pont des Arts or Passerelle des Arts is the pedestrian bridge over the Seine that connects the Louvre Museum on\n",
       "the Right bank to the Institut de France on the Left Bank. As a result, it connects the 1st and the 6th Paris \n",
       "arrondissements. It is flanked by the Pont du Carrousel downstream and by the Pont-Neuf and the Île de la Cité, \n",
       "home to the Notre Dame cathedral, upstream. The closest ...\n",
       "\n",
       "[Pont des Arts, Paris, France - LatLong](https://www.latlong.net/place/pont-des-arts-paris-france-32945.html)\n",
       "Pont des Arts, Paris, France Latitude and longitude coordinates are: 48.858334, 2.337369. Pont des Arts is a scenic\n",
       "pedestrian bridge over the Seine River in Paris, France. The bridge connects the Musée du Louvre and the Institut \n",
       "de France. It has a length of 155 m (509 ft) and a width of 11 m (36 ft). It was constructed between 1981 and 1984.\n",
       "The bridge is part of the UNESCO World Heritage ...\n",
       "\n",
       "[Le pont des Arts - L'art nouveau](https://paris1900.lartnouveau.com/ponts/pont_des_arts.htm)\n",
       "Le pont des Art actuel, passerelle pour piétons en acier, d'une longueur de 155 m comporte sept arches de 22 m. Il \n",
       "a été reconstruit de 1982 à 1984 sous la direction de l'architecte Louis Arretche. Le pont des Arts relie le quai \n",
       "Conti sur la rive gauche et l' Institut de France au quai François Mitterrand et le Louvre\n",
       "\n",
       "[Pont des Arts footbridge - travelfranceonline.com](https://www.travelfranceonline.com/pont-des-arts-footbridge/)\n",
       "The current Pont des Arts The current Pont des Arts, constructed in the early 1980s, faithfully replicates the \n",
       "original footbridge, albeit with a reduction in the number of arches from 8 to 7 to align with those of the \n",
       "Pont-Neuf upstream.\n",
       "\n",
       "[Bridge of Lovers - Pont des Arts - Pariste.Net](https://www.pariste.net/en/lovers-bridge-pont-des-arts/)\n",
       "(Last Update: 24.01.2025) Pont des Arts, known as the Lovers' Bridge, is a bridge over the Seine River in Paris, \n",
       "famous for its padlocks.\n",
       "\n",
       "[10 things to know about the Pont des Arts in Paris.](https://www.pariscadenas.com/articles/read/art-bridge)\n",
       "The Pont des Arts is a wooden pedestrian bridge that connects the two sides of the Seine in Paris, between the \n",
       "Louvre and the rue de Seine. It was built between 1802 and 1804 by architect Louis-Alexandre de Cessart and \n",
       "engineer Jean-Rodolphe Perronet. The Pont des Arts is the first wooden bridge to be built over the Seine in Paris.\n",
       "\n",
       "[Pont des Arts - The Love Bridge - Tour de \n",
       "France](https://www.tourdefrance-bridges.com/post/pont-des-arts-the-love-bridge)\n",
       "Context:The Pont des Arts, originally a cast iron arch bridge, known more often as the \"Love Bridge,\" crosses the \n",
       "Seine river in Paris, connecting the Louvre to the Institut de Paris, formerly the Collèges des quatre Nations. The\n",
       "bridge which stands today is not the original but an altered version constructed in the 1980s. The first bridge was\n",
       "commissioned by Napoléon and built between ...\n",
       "\n",
       "[PONT DES ARTS (2025) All You MUST Know Before You Go (w/ \n",
       "Reviews)](https://www.tripadvisor.ca/Attraction_Review-g187147-d2072995-Reviews-Pont_des_Arts-Paris_Ile_de_France.h\n",
       "tml)\n",
       "Book your tickets online for Pont des Arts, Paris: See 1,690 reviews, articles, and 1,385 photos of Pont des Arts, \n",
       "ranked No.117 on Tripadvisor among 4,158 attractions in Paris.\n",
       "Leopard speed: ## Search Results\n",
       "\n",
       "[How Fast Are Leopards? Top Speeds and How It Compares Other Big \n",
       "Cats](https://a-z-animals.com/blog/how-fast-leopards-top-speeds-how-compares-other-big-cats/)\n",
       "Leopards can run up to speeds of 36 miles per hour. Below, we delve into how that speed compares to their fellow \n",
       "felines and what contributes to a cat's incredible speed and agility. How Fast Are Leopards Compared to Other Big \n",
       "Cats?\n",
       "\n",
       "[How Fast Can a Leopard Run? It's Slower than Most of Its Prey](https://africafreak.com/how-fast-can-a-leopard-run)\n",
       "African leopards have a top speed of 56 - 60 km/h (35 - 37 mph). But they can hunt animals that are much faster \n",
       "than they are. This article explains it all.\n",
       "\n",
       "[How Fast Can a Leopard Run? A Fascinating Look at Their \n",
       "Speed](https://tiger-universe.com/blogs/tiger-blog/how-fast-can-a-leopard-run)\n",
       "Ever wondered How Fast Can a Leopard Run? Explore the speed, facts, and more in this expert guide. Learn about the \n",
       "incredible capabilities of these majestic creatures.\n",
       "\n",
       "[Unraveling the Speed of Leopards: How Fast Can They Actually \n",
       "Run?](https://startingrun.com/unraveling-the-speed-of-leopards-how-fast-can-they-actually-run/)\n",
       "After understanding the factors that influence a leopard's speed, let's delve into a comparative analysis with \n",
       "other big cats. The leopard, famously fast, clocks an impressive top speed of 58 km/h (36 mph). But how does this \n",
       "fare against other members of the big cat family? The lion, larger and heavier, reaches a peak speed of 81 km/h (50\n",
       "mph). Lions possess less agility, but they marshal ...\n",
       "\n",
       "[How Fast Can a Leopard Run? - YouTube](https://www.youtube.com/watch?v=CdK97tz4APQ)\n",
       "Discover the incredible running speed of leopards and how they excel in the wild! In this video, we dive into \n",
       "leopard running speed, exploring their top sprint abilities and comparing them with ...\n",
       "\n",
       "[How fast can leopards run and how agile are they? - \n",
       "WildLifeFAQs](https://www.wildlifefaq.com/leopard-speed-and-agility/)\n",
       "Welcome to our article about the impressive speed and agility of leopards, one of the most swift predators in the \n",
       "animal kingdom. In this section, we will explore the leopard's running speed, top speed, and overall agility. Get \n",
       "ready to be amazed by these agile big cats!\n",
       "\n",
       "[What is leopard top speed? - The Environmental Literacy \n",
       "Council](https://enviroliteracy.org/what-is-leopard-top-speed/)\n",
       "Unveiling the Leopard's Top Speed: A Deep Dive into Feline Agility The leopard, a master of stealth and adaptation,\n",
       "is a formidable predator. Its top speed, a crucial element of its hunting prowess, is a topic of much interest. \n",
       "What is leopard top speed? Leopards can reach speeds of up to 36 miles per hour (58 kilometers per hour) in short \n",
       "bursts. While not the fastest cat on the planet ...\n",
       "\n",
       "[How Fast Is A Leopard? - Name That Animal](https://www.namethatanimal.com/post/how-fast-is-a-leopard)\n",
       "Leopards are incredibly fast runners and can reach speeds of up to 58 kilometers per hour (36 mph). They are able \n",
       "to run at these high speeds for short distances, which allows them to chase down prey that is trying to escape. \n",
       "Leopards have long, muscular legs that are built for speed and allow them to cover large distances quickly.In \n",
       "addition to their speed, leopards are also incredibly agile ...\n",
       "\n",
       "[How does a leopard run so fast? - Sage-Advices](https://sage-advices.com/how-does-a-leopard-run-so-fast/)\n",
       "The average top speed of a leopard is 35 miles (56 kilometers) per hour. If a leopard is particularly hungry, they \n",
       "can go even faster and even reach up to 40 miles (64 kilometers) per hour. How fast can a African Leopard run? \n",
       "African leopards have a top speed of 56 - 60 km/h (35 - 37 mph).\n",
       "\n",
       "[How Fast Is A Leopard? Top Speed & Acceleration](https://scalecompanions.com/how-fast-is-a-leopard/)\n",
       "Learn about the amazing speed of leopards—from top speed to acceleration rates and their incredible hunting \n",
       "prowess. Discover how fast these fierce predators can run and chase prey in this comprehensive guide. Top Speed \n",
       "Recorded Maximum When we talk about top speed in vehicles or animals, it's like asking what's the peak performance \n",
       "when all systems are maxed out. For cars, this is often ...\n",
       "\n",
       "Out: None\n"
      ]
     },
     "metadata": {},
     "output_type": "display_data"
    },
    {
     "data": {
      "text/html": [
       "<pre style=\"white-space:pre;overflow-x:auto;line-height:normal;font-family:Menlo,'DejaVu Sans Mono',consolas,'Courier New',monospace\"><span style=\"color: #7f7f7f; text-decoration-color: #7f7f7f\">[Step 1: Duration 9.28 seconds| Input tokens: 2,056 | Output tokens: 123]</span>\n",
       "</pre>\n"
      ],
      "text/plain": [
       "\u001b[2m[Step 1: Duration 9.28 seconds| Input tokens: 2,056 | Output tokens: 123]\u001b[0m\n"
      ]
     },
     "metadata": {},
     "output_type": "display_data"
    },
    {
     "data": {
      "text/html": [
       "<pre style=\"white-space:pre;overflow-x:auto;line-height:normal;font-family:Menlo,'DejaVu Sans Mono',consolas,'Courier New',monospace\"><span style=\"color: #d4b702; text-decoration-color: #d4b702\">━━━━━━━━━━━━━━━━━━━━━━━━━━━━━━━━━━━━━━━━━━━━━━━━━━━━━ </span><span style=\"font-weight: bold\">Step </span><span style=\"color: #008080; text-decoration-color: #008080; font-weight: bold\">2</span><span style=\"color: #d4b702; text-decoration-color: #d4b702\"> ━━━━━━━━━━━━━━━━━━━━━━━━━━━━━━━━━━━━━━━━━━━━━━━━━━━━━━</span>\n",
       "</pre>\n"
      ],
      "text/plain": [
       "\u001b[38;2;212;183;2m━━━━━━━━━━━━━━━━━━━━━━━━━━━━━━━━━━━━━━━━━━━━━━━━━━━━━ \u001b[0m\u001b[1mStep \u001b[0m\u001b[1;36m2\u001b[0m\u001b[38;2;212;183;2m ━━━━━━━━━━━━━━━━━━━━━━━━━━━━━━━━━━━━━━━━━━━━━━━━━━━━━━\u001b[0m\n"
      ]
     },
     "metadata": {},
     "output_type": "display_data"
    },
    {
     "data": {
      "text/html": [
       "<pre style=\"white-space:pre;overflow-x:auto;line-height:normal;font-family:Menlo,'DejaVu Sans Mono',consolas,'Courier New',monospace\"> ─ <span style=\"font-weight: bold\">Executing parsed code:</span> ──────────────────────────────────────────────────────────────────────────────────────── \n",
       "  <span style=\"color: #959077; text-decoration-color: #959077; background-color: #272822\"># Given data</span><span style=\"background-color: #272822\">                                                                                                   </span>  \n",
       "  <span style=\"color: #f8f8f2; text-decoration-color: #f8f8f2; background-color: #272822\">pont_des_arts_length </span><span style=\"color: #ff4689; text-decoration-color: #ff4689; background-color: #272822\">=</span><span style=\"color: #f8f8f2; text-decoration-color: #f8f8f2; background-color: #272822\"> </span><span style=\"color: #ae81ff; text-decoration-color: #ae81ff; background-color: #272822\">155</span><span style=\"color: #f8f8f2; text-decoration-color: #f8f8f2; background-color: #272822\">  </span><span style=\"color: #959077; text-decoration-color: #959077; background-color: #272822\"># in meters</span><span style=\"background-color: #272822\">                                                                        </span>  \n",
       "  <span style=\"background-color: #272822\">                                                                                                               </span>  \n",
       "  <span style=\"color: #959077; text-decoration-color: #959077; background-color: #272822\"># Leopard speed range is 56-60 km/h, taking the average as 58 km/h</span><span style=\"background-color: #272822\">                                             </span>  \n",
       "  <span style=\"color: #f8f8f2; text-decoration-color: #f8f8f2; background-color: #272822\">leopard_speed_kmh </span><span style=\"color: #ff4689; text-decoration-color: #ff4689; background-color: #272822\">=</span><span style=\"color: #f8f8f2; text-decoration-color: #f8f8f2; background-color: #272822\"> </span><span style=\"color: #ae81ff; text-decoration-color: #ae81ff; background-color: #272822\">58</span><span style=\"color: #f8f8f2; text-decoration-color: #f8f8f2; background-color: #272822\">  </span><span style=\"color: #959077; text-decoration-color: #959077; background-color: #272822\"># in kilometers per hour</span><span style=\"background-color: #272822\">                                                               </span>  \n",
       "  <span style=\"background-color: #272822\">                                                                                                               </span>  \n",
       "  <span style=\"color: #959077; text-decoration-color: #959077; background-color: #272822\"># Convert leopard speed to meters per second</span><span style=\"background-color: #272822\">                                                                   </span>  \n",
       "  <span style=\"color: #f8f8f2; text-decoration-color: #f8f8f2; background-color: #272822\">leopard_speed_ms </span><span style=\"color: #ff4689; text-decoration-color: #ff4689; background-color: #272822\">=</span><span style=\"color: #f8f8f2; text-decoration-color: #f8f8f2; background-color: #272822\"> leopard_speed_kmh </span><span style=\"color: #ff4689; text-decoration-color: #ff4689; background-color: #272822\">*</span><span style=\"color: #f8f8f2; text-decoration-color: #f8f8f2; background-color: #272822\"> (</span><span style=\"color: #ae81ff; text-decoration-color: #ae81ff; background-color: #272822\">1000</span><span style=\"color: #f8f8f2; text-decoration-color: #f8f8f2; background-color: #272822\"> </span><span style=\"color: #ff4689; text-decoration-color: #ff4689; background-color: #272822\">/</span><span style=\"color: #f8f8f2; text-decoration-color: #f8f8f2; background-color: #272822\"> </span><span style=\"color: #ae81ff; text-decoration-color: #ae81ff; background-color: #272822\">3600</span><span style=\"color: #f8f8f2; text-decoration-color: #f8f8f2; background-color: #272822\">)</span><span style=\"background-color: #272822\">                                                           </span>  \n",
       "  <span style=\"background-color: #272822\">                                                                                                               </span>  \n",
       "  <span style=\"color: #959077; text-decoration-color: #959077; background-color: #272822\"># Calculate the time it would take for a leopard to run through Pont des Arts</span><span style=\"background-color: #272822\">                                  </span>  \n",
       "  <span style=\"color: #f8f8f2; text-decoration-color: #f8f8f2; background-color: #272822\">time_to_run </span><span style=\"color: #ff4689; text-decoration-color: #ff4689; background-color: #272822\">=</span><span style=\"color: #f8f8f2; text-decoration-color: #f8f8f2; background-color: #272822\"> pont_des_arts_length </span><span style=\"color: #ff4689; text-decoration-color: #ff4689; background-color: #272822\">/</span><span style=\"color: #f8f8f2; text-decoration-color: #f8f8f2; background-color: #272822\"> leopard_speed_ms</span><span style=\"background-color: #272822\">                                                          </span>  \n",
       "  <span style=\"color: #f8f8f2; text-decoration-color: #f8f8f2; background-color: #272822\">final_answer(time_to_run)</span><span style=\"background-color: #272822\">                                                                                      </span>  \n",
       " ───────────────────────────────────────────────────────────────────────────────────────────────────────────────── \n",
       "</pre>\n"
      ],
      "text/plain": [
       " ─ \u001b[1mExecuting parsed code:\u001b[0m ──────────────────────────────────────────────────────────────────────────────────────── \n",
       "  \u001b[38;2;149;144;119;48;2;39;40;34m# Given data\u001b[0m\u001b[48;2;39;40;34m                                                                                                   \u001b[0m  \n",
       "  \u001b[38;2;248;248;242;48;2;39;40;34mpont_des_arts_length\u001b[0m\u001b[38;2;248;248;242;48;2;39;40;34m \u001b[0m\u001b[38;2;255;70;137;48;2;39;40;34m=\u001b[0m\u001b[38;2;248;248;242;48;2;39;40;34m \u001b[0m\u001b[38;2;174;129;255;48;2;39;40;34m155\u001b[0m\u001b[38;2;248;248;242;48;2;39;40;34m  \u001b[0m\u001b[38;2;149;144;119;48;2;39;40;34m# in meters\u001b[0m\u001b[48;2;39;40;34m                                                                        \u001b[0m  \n",
       "  \u001b[48;2;39;40;34m                                                                                                               \u001b[0m  \n",
       "  \u001b[38;2;149;144;119;48;2;39;40;34m# Leopard speed range is 56-60 km/h, taking the average as 58 km/h\u001b[0m\u001b[48;2;39;40;34m                                             \u001b[0m  \n",
       "  \u001b[38;2;248;248;242;48;2;39;40;34mleopard_speed_kmh\u001b[0m\u001b[38;2;248;248;242;48;2;39;40;34m \u001b[0m\u001b[38;2;255;70;137;48;2;39;40;34m=\u001b[0m\u001b[38;2;248;248;242;48;2;39;40;34m \u001b[0m\u001b[38;2;174;129;255;48;2;39;40;34m58\u001b[0m\u001b[38;2;248;248;242;48;2;39;40;34m  \u001b[0m\u001b[38;2;149;144;119;48;2;39;40;34m# in kilometers per hour\u001b[0m\u001b[48;2;39;40;34m                                                               \u001b[0m  \n",
       "  \u001b[48;2;39;40;34m                                                                                                               \u001b[0m  \n",
       "  \u001b[38;2;149;144;119;48;2;39;40;34m# Convert leopard speed to meters per second\u001b[0m\u001b[48;2;39;40;34m                                                                   \u001b[0m  \n",
       "  \u001b[38;2;248;248;242;48;2;39;40;34mleopard_speed_ms\u001b[0m\u001b[38;2;248;248;242;48;2;39;40;34m \u001b[0m\u001b[38;2;255;70;137;48;2;39;40;34m=\u001b[0m\u001b[38;2;248;248;242;48;2;39;40;34m \u001b[0m\u001b[38;2;248;248;242;48;2;39;40;34mleopard_speed_kmh\u001b[0m\u001b[38;2;248;248;242;48;2;39;40;34m \u001b[0m\u001b[38;2;255;70;137;48;2;39;40;34m*\u001b[0m\u001b[38;2;248;248;242;48;2;39;40;34m \u001b[0m\u001b[38;2;248;248;242;48;2;39;40;34m(\u001b[0m\u001b[38;2;174;129;255;48;2;39;40;34m1000\u001b[0m\u001b[38;2;248;248;242;48;2;39;40;34m \u001b[0m\u001b[38;2;255;70;137;48;2;39;40;34m/\u001b[0m\u001b[38;2;248;248;242;48;2;39;40;34m \u001b[0m\u001b[38;2;174;129;255;48;2;39;40;34m3600\u001b[0m\u001b[38;2;248;248;242;48;2;39;40;34m)\u001b[0m\u001b[48;2;39;40;34m                                                           \u001b[0m  \n",
       "  \u001b[48;2;39;40;34m                                                                                                               \u001b[0m  \n",
       "  \u001b[38;2;149;144;119;48;2;39;40;34m# Calculate the time it would take for a leopard to run through Pont des Arts\u001b[0m\u001b[48;2;39;40;34m                                  \u001b[0m  \n",
       "  \u001b[38;2;248;248;242;48;2;39;40;34mtime_to_run\u001b[0m\u001b[38;2;248;248;242;48;2;39;40;34m \u001b[0m\u001b[38;2;255;70;137;48;2;39;40;34m=\u001b[0m\u001b[38;2;248;248;242;48;2;39;40;34m \u001b[0m\u001b[38;2;248;248;242;48;2;39;40;34mpont_des_arts_length\u001b[0m\u001b[38;2;248;248;242;48;2;39;40;34m \u001b[0m\u001b[38;2;255;70;137;48;2;39;40;34m/\u001b[0m\u001b[38;2;248;248;242;48;2;39;40;34m \u001b[0m\u001b[38;2;248;248;242;48;2;39;40;34mleopard_speed_ms\u001b[0m\u001b[48;2;39;40;34m                                                          \u001b[0m  \n",
       "  \u001b[38;2;248;248;242;48;2;39;40;34mfinal_answer\u001b[0m\u001b[38;2;248;248;242;48;2;39;40;34m(\u001b[0m\u001b[38;2;248;248;242;48;2;39;40;34mtime_to_run\u001b[0m\u001b[38;2;248;248;242;48;2;39;40;34m)\u001b[0m\u001b[48;2;39;40;34m                                                                                      \u001b[0m  \n",
       " ───────────────────────────────────────────────────────────────────────────────────────────────────────────────── \n"
      ]
     },
     "metadata": {},
     "output_type": "display_data"
    },
    {
     "data": {
      "text/html": [
       "<pre style=\"white-space:pre;overflow-x:auto;line-height:normal;font-family:Menlo,'DejaVu Sans Mono',consolas,'Courier New',monospace\"><span style=\"color: #d4b702; text-decoration-color: #d4b702; font-weight: bold\">Out - Final answer: 9.620689655172415</span>\n",
       "</pre>\n"
      ],
      "text/plain": [
       "\u001b[1;38;2;212;183;2mOut - Final answer: 9.620689655172415\u001b[0m\n"
      ]
     },
     "metadata": {},
     "output_type": "display_data"
    },
    {
     "data": {
      "text/html": [
       "<pre style=\"white-space:pre;overflow-x:auto;line-height:normal;font-family:Menlo,'DejaVu Sans Mono',consolas,'Courier New',monospace\"><span style=\"color: #7f7f7f; text-decoration-color: #7f7f7f\">[Step 2: Duration 12.95 seconds| Input tokens: 6,512 | Output tokens: 348]</span>\n",
       "</pre>\n"
      ],
      "text/plain": [
       "\u001b[2m[Step 2: Duration 12.95 seconds| Input tokens: 6,512 | Output tokens: 348]\u001b[0m\n"
      ]
     },
     "metadata": {},
     "output_type": "display_data"
    },
    {
     "data": {
      "text/plain": [
       "9.620689655172415"
      ]
     },
     "execution_count": 5,
     "metadata": {},
     "output_type": "execute_result"
    }
   ],
   "source": [
    "from smolagents import CodeAgent, DuckDuckGoSearchTool, HfApiModel\n",
    "\n",
    "\n",
    "# Define the model with an explicit provider\n",
    "model = HfApiModel(\n",
    "    model_id=\"Qwen/Qwen2.5-Coder-32B-Instruct\",\n",
    "    provider=\"hf-inference\" # ✅ Valid here\n",
    ")\n",
    "\n",
    "agent = CodeAgent(\n",
    "    tools=[DuckDuckGoSearchTool()], \n",
    "    model=model,\n",
    ")\n",
    "\n",
    "agent.run(\"How many seconds would it take for a leopard at full speed to run through Pont des Arts?\")\n",
    "\n"
   ]
  }
 ],
 "metadata": {
  "kernelspec": {
   "display_name": ".venv",
   "language": "python",
   "name": "python3"
  },
  "language_info": {
   "codemirror_mode": {
    "name": "ipython",
    "version": 3
   },
   "file_extension": ".py",
   "mimetype": "text/x-python",
   "name": "python",
   "nbconvert_exporter": "python",
   "pygments_lexer": "ipython3",
   "version": "3.13.2"
  }
 },
 "nbformat": 4,
 "nbformat_minor": 5
}
