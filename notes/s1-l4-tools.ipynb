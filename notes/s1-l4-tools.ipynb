{
 "cells": [
  {
   "cell_type": "markdown",
   "id": "9972998c",
   "metadata": {},
   "source": [
    "## Generic Tool implementation"
   ]
  },
  {
   "cell_type": "markdown",
   "id": "3c96ff0c",
   "metadata": {},
   "source": [
    "We create a generic Tool class that we can reuse whenever we need to use a tool.\n",
    "\n",
    "> Disclaimer: This example implementation is fictional but closely resembles real implementations in most libraries.\n",
    "\n"
   ]
  },
  {
   "cell_type": "code",
   "execution_count": 9,
   "id": "6f2c8743",
   "metadata": {},
   "outputs": [],
   "source": [
    "from typing import Callable\n",
    "\n",
    "class Tool:\n",
    "    \"\"\"\n",
    "    A class representing a reusable piece of code (Tool).\n",
    "\n",
    "    Attributes:\n",
    "        name (str): Name of the tool.\n",
    "        description (str): A textual description of what the tool does.\n",
    "        func (callable): The function this tool wraps.\n",
    "        arguments (list): A list of argument.\n",
    "        outputs (str or list): The return type(s) of the wrapped function.\n",
    "    \"\"\"\n",
    "    def __init__(self,\n",
    "                 name: str,\n",
    "                 description: str,\n",
    "                 func: Callable,\n",
    "                 arguments: list,\n",
    "                 outputs: str):\n",
    "        self.name = name\n",
    "        self.description = description\n",
    "        self.func = func\n",
    "        self.arguments = arguments\n",
    "        self.outputs = outputs\n",
    "\n",
    "    def to_string(self) -> str:\n",
    "        \"\"\"\n",
    "        Return a string representation of the tool,\n",
    "        including its name, description, arguments, and outputs.\n",
    "        \"\"\"\n",
    "        args_str = \", \".join([\n",
    "            f\"{arg_name}: {arg_type}\" for arg_name, arg_type in self.arguments\n",
    "        ])\n",
    "\n",
    "        return (\n",
    "            f\"Tool Name: {self.name},\"\n",
    "            f\" Description: {self.description},\"\n",
    "            f\" Arguments: {args_str},\"\n",
    "            f\" Outputs: {self.outputs}\"\n",
    "        )\n",
    "\n",
    "    def __call__(self, *args, **kwargs):\n",
    "        \"\"\"\n",
    "        Invoke the underlying function (callable) with provided arguments.\n",
    "        \"\"\"\n",
    "        return self.func(*args, **kwargs)\n",
    "\n",
    "\n",
    "def calculator(a: int, b: int) -> int:\n",
    "    \"\"\"Multiply two integers.\"\"\"\n",
    "    return a * b\n"
   ]
  },
  {
   "cell_type": "markdown",
   "id": "6e57e6b2",
   "metadata": {},
   "source": [
    "It may seem complicated, but if we go slowly through it we can see what it does. We define a Tool class that includes:\n",
    "\n",
    "* name (str): The name of the tool.\n",
    "* description (str): A brief description of what the tool does.\n",
    "* function (callable): The function the tool executes.\n",
    "* arguments (list): The expected input parameters.\n",
    "* outputs (str or list): The expected outputs of the tool.\n",
    "* __call__(): Calls the function when the tool instance is invoked.\n",
    "* to_string(): Converts the tool’s attributes into a textual representation."
   ]
  },
  {
   "cell_type": "markdown",
   "id": "2c34c7cc",
   "metadata": {},
   "source": [
    "We could create a Tool with this class using code like the following:\n"
   ]
  },
  {
   "cell_type": "code",
   "execution_count": 11,
   "id": "82d7d72c",
   "metadata": {},
   "outputs": [
    {
     "data": {
      "text/plain": [
       "'Tool Name: calculator, Description: Multiply two integers., Arguments: a: int, b: int, Outputs: int'"
      ]
     },
     "execution_count": 11,
     "metadata": {},
     "output_type": "execute_result"
    }
   ],
   "source": [
    "\n",
    "calculator_tool = Tool(\n",
    "    \"calculator\",                   # name\n",
    "    \"Multiply two integers.\",       # description\n",
    "    calculator,                     # function to call\n",
    "    [(\"a\", \"int\"), (\"b\", \"int\")],   # inputs (names and types)\n",
    "    \"int\",                          # output\n",
    ")\n",
    "\n",
    "calculator_tool.to_string()"
   ]
  },
  {
   "cell_type": "markdown",
   "id": "6b741954",
   "metadata": {},
   "source": [
    "## Decorator code"
   ]
  },
  {
   "cell_type": "markdown",
   "id": "450d776c",
   "metadata": {},
   "source": [
    "But we can also use Python’s inspect module to retrieve all the information for us! This is what the @tool decorator does.\n",
    "\n"
   ]
  },
  {
   "cell_type": "code",
   "execution_count": 6,
   "id": "fe50416b",
   "metadata": {},
   "outputs": [],
   "source": [
    "import inspect\n",
    "\n",
    "def tool(func):\n",
    "    \"\"\"\n",
    "    A decorator that creates a Tool instance from the given function.\n",
    "    \"\"\"\n",
    "    # Get the function signature\n",
    "    signature = inspect.signature(func)\n",
    "\n",
    "    # Extract (param_name, param_annotation) pairs for inputs\n",
    "    arguments = []\n",
    "    for param in signature.parameters.values():\n",
    "        annotation_name = (\n",
    "            param.annotation.__name__\n",
    "            if hasattr(param.annotation, '__name__')\n",
    "            else str(param.annotation)\n",
    "        )\n",
    "        arguments.append((param.name, annotation_name))\n",
    "\n",
    "    # Determine the return annotation\n",
    "    return_annotation = signature.return_annotation\n",
    "    if return_annotation is inspect._empty:\n",
    "        outputs = \"No return annotation\"\n",
    "    else:\n",
    "        outputs = (\n",
    "            return_annotation.__name__\n",
    "            if hasattr(return_annotation, '__name__')\n",
    "            else str(return_annotation)\n",
    "        )\n",
    "\n",
    "    # Use the function's docstring as the description (default if None)\n",
    "    description = func.__doc__ or \"No description provided.\"\n",
    "\n",
    "    # The function name becomes the Tool name\n",
    "    name = func.__name__\n",
    "\n",
    "    # Return a new Tool instance\n",
    "    return Tool(\n",
    "        name=name,\n",
    "        description=description,\n",
    "        func=func,\n",
    "        arguments=arguments,\n",
    "        outputs=outputs\n",
    "    )"
   ]
  },
  {
   "cell_type": "markdown",
   "id": "6d1f3e50",
   "metadata": {},
   "source": [
    "Just to reiterate, with this decorator in place we can implement our tool like this:\n",
    "\n"
   ]
  },
  {
   "cell_type": "code",
   "execution_count": null,
   "id": "3c5a1c61",
   "metadata": {},
   "outputs": [
    {
     "name": "stdout",
     "output_type": "stream",
     "text": [
      "Tool Name: calculator, Description: Multiply two integers., Arguments: a: int, b: int, Outputs: int\n"
     ]
    }
   ],
   "source": [
    "@tool\n",
    "def calculator(a: int, b: int) -> int:\n",
    "    \"\"\"Multiply two integers.\"\"\"\n",
    "    return a * b\n",
    "\n",
    "print(calculator.to_string())\n",
    "# And we can use the Tool’s to_string method to automatically retrieve \n",
    "# a text suitable to be used as a tool description for an LLM:"
   ]
  }
 ],
 "metadata": {
  "kernelspec": {
   "display_name": ".venv",
   "language": "python",
   "name": "python3"
  },
  "language_info": {
   "codemirror_mode": {
    "name": "ipython",
    "version": 3
   },
   "file_extension": ".py",
   "mimetype": "text/x-python",
   "name": "python",
   "nbconvert_exporter": "python",
   "pygments_lexer": "ipython3",
   "version": "3.13.2"
  }
 },
 "nbformat": 4,
 "nbformat_minor": 5
}
